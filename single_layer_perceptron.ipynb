{
 "cells": [
  {
   "cell_type": "markdown",
   "id": "392d8d51",
   "metadata": {},
   "source": [
    "## Задание.\n",
    "Необходимо обучить нейронную сеть распознавать указанные 4 символа. На каждый символ необходимо подготовить 4 обучающих образа с использованием разных шрифтов. Соответственно, всего будет 16 обучающих образов: 4 образа первым шрифтом, 4 образа, вторым шрифтом и т.д. Тестовая выборка должна содержать по 1 образу на каждый из 4-х символов. Символы должны быть написаны другим шрифтом, который не был использован в обучающей выборке. \n"
   ]
  },
  {
   "cell_type": "markdown",
   "id": "d7b51495",
   "metadata": {},
   "source": [
    "Импортируем необходимые библиотеки."
   ]
  },
  {
   "cell_type": "code",
   "execution_count": 2,
   "id": "316bdb36",
   "metadata": {},
   "outputs": [],
   "source": [
    "import numpy as np\n",
    "from PIL import Image\n",
    "\n",
    "import matplotlib.pyplot as plt\n",
    "import time\n",
    "\n",
    "from statistics import mean"
   ]
  },
  {
   "cell_type": "markdown",
   "id": "76c62ae0",
   "metadata": {},
   "source": [
    "Создадим функцию, которая будеи нормализировать изображение, оставляя только черный или белый цвет (0.0, 1.0)"
   ]
  },
  {
   "cell_type": "code",
   "execution_count": 3,
   "id": "062bffc3",
   "metadata": {},
   "outputs": [],
   "source": [
    "def threshold(imageArray):\n",
    "    balanceAr = []\n",
    "    newAr = imageArray\n",
    "    wbArrS = []   \n",
    "    wbList = []\n",
    "  \n",
    "    \n",
    "    for eachRow in imageArray:\n",
    "        for eachPix in eachRow:\n",
    "            avgNum = mean(eachPix[:3])\n",
    "            balanceAr.append(avgNum)\n",
    "    balance = mean(balanceAr)\n",
    "    \n",
    "    for eachRow in newAr:\n",
    "\n",
    "        for eachPix in eachRow:\n",
    "            \n",
    "            if mean(eachPix[:3]) > balance:\n",
    "                eachPix[0] = 255\n",
    "                eachPix[1] = 255\n",
    "                eachPix[2] = 255\n",
    "                wbArrS.append(0.0)\n",
    "\n",
    "            else:\n",
    "                eachPix[0] = 0\n",
    "                eachPix[1] = 0\n",
    "                eachPix[2] = 0\n",
    "                wbArrS.append(1.0)\n",
    "        \n",
    "        \n",
    "    wb = np.asarray (wbArrS)\n",
    "       \n",
    "\n",
    "    return wb"
   ]
  },
  {
   "cell_type": "markdown",
   "id": "9392589a",
   "metadata": {},
   "source": [
    "Преобразуем четыре изображения цифры 9 в векторы."
   ]
  },
  {
   "cell_type": "code",
   "execution_count": 4,
   "id": "5084fd85",
   "metadata": {},
   "outputs": [
    {
     "data": {
      "text/plain": [
       "<matplotlib.image.AxesImage at 0x1e9f498e5e0>"
      ]
     },
     "execution_count": 4,
     "metadata": {},
     "output_type": "execute_result"
    },
    {
     "data": {
      "image/png": "[encoded data removed]",
      "text/plain": [
       "<Figure size 640x480 with 4 Axes>"
      ]
     },
     "metadata": {},
     "output_type": "display_data"
    }
   ],
   "source": [
    "i9 = Image.open('image/symb1_25x30/number_9.png')\n",
    "i9_1 = Image.open('image/symb1_25x30/number_9_1.png')\n",
    "i9_2 = Image.open('image/symb1_25x30/number_9_2.png')\n",
    "i9_3 = Image.open('image/symb1_25x30/number_9_3.png')\n",
    "\n",
    "iar9 = np.array(i9)\n",
    "iar9_1 = np.array(i9_1)\n",
    "iar9_2 = np.array(i9_2)\n",
    "iar9_3 = np.array(i9_3)\n",
    "\n",
    "fig = plt.figure()\n",
    "ax = plt.subplot2grid((8,6),(0,0), rowspan=4, colspan=3)\n",
    "ax1 = plt.subplot2grid((8,6),(4,0), rowspan=4, colspan=3)\n",
    "ax2 = plt.subplot2grid((8,6),(0,3), rowspan=4, colspan=3)\n",
    "ax3 = plt.subplot2grid((8,6),(4,3), rowspan=4, colspan=3)\n",
    "ax.imshow(iar9)\n",
    "ax1.imshow(iar9_1)\n",
    "ax2.imshow(iar9_2)\n",
    "ax3.imshow(iar9_3)\n"
   ]
  },
  {
   "cell_type": "markdown",
   "id": "9da78c70",
   "metadata": {},
   "source": [
    "Нормализуем полученные вектора."
   ]
  },
  {
   "cell_type": "code",
   "execution_count": 5,
   "id": "422472ea",
   "metadata": {},
   "outputs": [],
   "source": [
    "iar9 = threshold(iar9)\n",
    "iar9_1 = threshold(iar9_1)\n",
    "iar9_2 = threshold(iar9_2)\n",
    "iar9_3 = threshold(iar9_3)\n"
   ]
  },
  {
   "cell_type": "markdown",
   "id": "62d5bc1b",
   "metadata": {},
   "source": [
    "Преобразуем четыре изображения цифры 3 в векторы."
   ]
  },
  {
   "cell_type": "code",
   "execution_count": 6,
   "id": "8e0da35d",
   "metadata": {},
   "outputs": [
    {
     "data": {
      "text/plain": [
       "<matplotlib.image.AxesImage at 0x1e9f49e90d0>"
      ]
     },
     "execution_count": 6,
     "metadata": {},
     "output_type": "execute_result"
    },
    {
     "data": {
      "image/png": "[encoded data removed]",
      "text/plain": [
       "<Figure size 640x480 with 4 Axes>"
      ]
     },
     "metadata": {},
     "output_type": "display_data"
    }
   ],
   "source": [
    "i3 = Image.open('image/symb3_25x30/number_3.png')\n",
    "i3_1 = Image.open('image/symb3_25x30/number_3_1.png')\n",
    "i3_2 = Image.open('image/symb3_25x30/number_3_2.png')\n",
    "i3_3 = Image.open('image/symb3_25x30/number_3_3.png')\n",
    "\n",
    "iar3 = np.array(i3)\n",
    "iar3_1 = np.array(i3_1)\n",
    "iar3_2 = np.array(i3_2)\n",
    "iar3_3 = np.array(i3_3)\n",
    "\n",
    "fig = plt.figure()\n",
    "ax = plt.subplot2grid((8,6),(0,0), rowspan=4, colspan=3)\n",
    "ax1 = plt.subplot2grid((8,6),(4,0), rowspan=4, colspan=3)\n",
    "ax2 = plt.subplot2grid((8,6),(0,3), rowspan=4, colspan=3)\n",
    "ax3 = plt.subplot2grid((8,6),(4,3), rowspan=4, colspan=3)\n",
    "\n",
    "ax.imshow(iar3)\n",
    "ax1.imshow(iar3_1)\n",
    "ax2.imshow(iar3_2)\n",
    "ax3.imshow(iar3_3)"
   ]
  },
  {
   "cell_type": "markdown",
   "id": "147cb66d",
   "metadata": {},
   "source": [
    "Нормализуем векторы."
   ]
  },
  {
   "cell_type": "code",
   "execution_count": 7,
   "id": "d2d8ab3e",
   "metadata": {},
   "outputs": [],
   "source": [
    "iar3 = threshold(iar3)\n",
    "iar3_1 = threshold(iar3_1)\n",
    "iar3_2 = threshold(iar3_2)\n",
    "iar3_3 = threshold(iar3_3)\n"
   ]
  },
  {
   "cell_type": "markdown",
   "id": "28fb0113",
   "metadata": {},
   "source": [
    "Преобразуем четыре изображения цифры 5 в векторы."
   ]
  },
  {
   "cell_type": "code",
   "execution_count": 8,
   "id": "b0b6e75e",
   "metadata": {},
   "outputs": [
    {
     "data": {
      "text/plain": [
       "<matplotlib.image.AxesImage at 0x1e9f4c2d580>"
      ]
     },
     "execution_count": 8,
     "metadata": {},
     "output_type": "execute_result"
    },
    {
     "data": {
      "image/png": "[encoded data removed]",
      "text/plain": [
       "<Figure size 640x480 with 4 Axes>"
      ]
     },
     "metadata": {},
     "output_type": "display_data"
    }
   ],
   "source": [
    "i5 = Image.open('image/symb2_25x30/number_5.png')\n",
    "i5_1 = Image.open('image/symb2_25x30/number_5_1.png')\n",
    "i5_2 = Image.open('image/symb2_25x30/number_5_2.png')\n",
    "i5_3 = Image.open('image/symb2_25x30/number_5_3.png')\n",
    "\n",
    "iar5 = np.array(i5)\n",
    "iar5_1 = np.array(i5_1)\n",
    "iar5_2 = np.array(i5_2)\n",
    "iar5_3 = np.array(i5_3)\n",
    "\n",
    "fig = plt.figure()\n",
    "ax = plt.subplot2grid((8,6),(0,0), rowspan=4, colspan=3)\n",
    "ax1 = plt.subplot2grid((8,6),(4,0), rowspan=4, colspan=3)\n",
    "ax2 = plt.subplot2grid((8,6),(0,3), rowspan=4, colspan=3)\n",
    "ax3 = plt.subplot2grid((8,6),(4,3), rowspan=4, colspan=3)\n",
    "\n",
    "ax.imshow(iar5)\n",
    "ax1.imshow(iar5_1)\n",
    "ax2.imshow(iar5_2)\n",
    "ax3.imshow(iar5_3)"
   ]
  },
  {
   "cell_type": "markdown",
   "id": "de4bc98d",
   "metadata": {},
   "source": [
    "Нормализуем векторы."
   ]
  },
  {
   "cell_type": "code",
   "execution_count": 9,
   "id": "686f91ce",
   "metadata": {},
   "outputs": [],
   "source": [
    "iar5 = threshold(iar5)\n",
    "iar5_1 = threshold(iar5_1)\n",
    "iar5_2 = threshold(iar5_2)\n",
    "iar5_3 = threshold(iar5_3)\n",
    "\n"
   ]
  },
  {
   "cell_type": "markdown",
   "id": "e254e94f",
   "metadata": {},
   "source": [
    "Преобразуем четыре изображения цифры 2 в векторы."
   ]
  },
  {
   "cell_type": "code",
   "execution_count": 14,
   "id": "c730a544",
   "metadata": {},
   "outputs": [
    {
     "data": {
      "text/plain": [
       "<matplotlib.image.AxesImage at 0x1e9f5fd1b80>"
      ]
     },
     "execution_count": 14,
     "metadata": {},
     "output_type": "execute_result"
    },
    {
     "data": {
      "image/png": "[encoded data removed]",
      "text/plain": [
       "<Figure size 640x480 with 4 Axes>"
      ]
     },
     "metadata": {},
     "output_type": "display_data"
    }
   ],
   "source": [
    "i2 = Image.open('image/symb4_25x30/number_2.png')\n",
    "i2_1 = Image.open('image/symb4_25x30/number_2_1.png')\n",
    "i2_2 = Image.open('image/symb4_25x30/number_2_2.png')\n",
    "i2_3 = Image.open('image/symb4_25x30/number_2_3.png')\n",
    "\n",
    "iar2 = np.array(i2)\n",
    "iar2_1 = np.array(i2_1)\n",
    "iar2_2 = np.array(i2_2)\n",
    "iar2_3 = np.array(i2_3)\n",
    "\n",
    "fig = plt.figure()\n",
    "ax = plt.subplot2grid((8,6),(0,0), rowspan=4, colspan=3)\n",
    "ax1 = plt.subplot2grid((8,6),(4,0), rowspan=4, colspan=3)\n",
    "ax2 = plt.subplot2grid((8,6),(0,3), rowspan=4, colspan=3)\n",
    "ax3 = plt.subplot2grid((8,6),(4,3), rowspan=4, colspan=3)\n",
    "\n",
    "ax.imshow(iar2)\n",
    "ax1.imshow(iar2_1)\n",
    "ax2.imshow(iar2_2)\n",
    "ax3.imshow(iar2_3)"
   ]
  },
  {
   "cell_type": "markdown",
   "id": "c06673b4",
   "metadata": {},
   "source": [
    "Нормализуем векторы."
   ]
  },
  {
   "cell_type": "code",
   "execution_count": 15,
   "id": "1775def1",
   "metadata": {},
   "outputs": [],
   "source": [
    "iar2 = threshold(iar2)\n",
    "iar2_1 = threshold(iar2_1)\n",
    "iar2_2 = threshold(iar2_2)\n",
    "iar2_3 = threshold(iar2_3)\n"
   ]
  },
  {
   "cell_type": "markdown",
   "id": "ad6cc80f",
   "metadata": {},
   "source": [
    "В качестве функции активации будем использовать пороговую функцию активации."
   ]
  },
  {
   "cell_type": "code",
   "execution_count": 13,
   "id": "3fe1afe9",
   "metadata": {},
   "outputs": [],
   "source": [
    "#activation function\n",
    "def act_func(x):\n",
    "    if x>=0.26:\n",
    "        return 1\n",
    "    else:\n",
    "        return 0"
   ]
  },
  {
   "cell_type": "markdown",
   "id": "2b68a390",
   "metadata": {},
   "source": [
    "Сгенерируем веса."
   ]
  },
  {
   "cell_type": "code",
   "execution_count": 73,
   "id": "7bf89e2b",
   "metadata": {},
   "outputs": [
    {
     "name": "stdout",
     "output_type": "stream",
     "text": [
      "[[0.1933254  0.47390868 0.60934879 ... 0.45129956 0.5698072  0.62582611]\n",
      " [0.82901496 0.59152096 0.92540714 ... 0.561713   0.71156564 0.07821672]\n",
      " [0.83806631 0.59837684 0.06739679 ... 0.86147489 0.01988212 0.29319213]\n",
      " [0.94569727 0.10142958 0.89971132 ... 0.59739146 0.35199143 0.36906828]]\n"
     ]
    }
   ],
   "source": [
    "w = np.zeros((4,750))\n",
    "for i in range(4):\n",
    "    for j in range(750):\n",
    "        w[i][j] = np.random.rand()\n",
    "\n",
    "print(w)\n"
   ]
  },
  {
   "cell_type": "markdown",
   "id": "7f577970",
   "metadata": {},
   "source": [
    "Функция корректировки весов."
   ]
  },
  {
   "cell_type": "code",
   "execution_count": 17,
   "id": "49815334",
   "metadata": {},
   "outputs": [],
   "source": [
    "def w_crrct(x, w, error):\n",
    "    return w + error*x\n",
    "\n"
   ]
  },
  {
   "cell_type": "markdown",
   "id": "c2149495",
   "metadata": {},
   "source": [
    "Функция, определяющая знак в уравнении для корректировки весов."
   ]
  },
  {
   "cell_type": "code",
   "execution_count": 18,
   "id": "9bcea955",
   "metadata": {},
   "outputs": [],
   "source": [
    "def error_calc(calc_out, correct_result):\n",
    "    error = 0\n",
    "    if calc_out == correct_result:\n",
    "        error = 0\n",
    "    elif calc_out == 0 and correct_result==1:\n",
    "        error = 1\n",
    "    elif calc_out == 1 and correct_result==0:\n",
    "        error = -1\n",
    "                    \n",
    "    return error"
   ]
  },
  {
   "cell_type": "markdown",
   "id": "cc7708bb",
   "metadata": {},
   "source": [
    "Функция обучения нейронной сети."
   ]
  },
  {
   "cell_type": "code",
   "execution_count": 74,
   "id": "570dc775",
   "metadata": {},
   "outputs": [],
   "source": [
    "def train(train_image, correct_result):\n",
    "    calc_out = np.zeros(4)\n",
    "    weight_sum = np.zeros(4)\n",
    "    error = 0\n",
    "    for epoch in range(30):\n",
    "        for i in range(4):\n",
    "\n",
    "        \n",
    "            weight_sum[i] = np.sum(np.multiply(train_image[:], w[i][:]))\n",
    "            \n",
    "            calc_out[i] = act_func(weight_sum[i])\n",
    "            error = error_calc(calc_out[i], correct_result[i])\n",
    "\n",
    "            for n in range(750):\n",
    "                  w[i][n] = w_crrct(train_image[n], w[i][n], error)\n",
    "        if(epoch%10==0):        \n",
    "            print(\"Epoch: \"+str(epoch)+\"\\tpredict: \"+str(calc_out)+\"\\tcorrect: \"+str(correct_result))\n",
    "        \n",
    "    print(\"**********************\")\n",
    "          \n",
    "    return calc_out"
   ]
  },
  {
   "cell_type": "markdown",
   "id": "9866da26",
   "metadata": {},
   "source": [
    "Определим, какая цифра какому классу соответствует."
   ]
  },
  {
   "cell_type": "code",
   "execution_count": 75,
   "id": "f02e61d3",
   "metadata": {},
   "outputs": [],
   "source": [
    "n9 = [1, 0, 0, 0]\n",
    "n3 = [0, 1, 0, 0]\n",
    "n5 = [0, 0, 1, 0]\n",
    "n2 = [0, 0, 0, 1]\n"
   ]
  },
  {
   "cell_type": "markdown",
   "id": "b0c9e627",
   "metadata": {},
   "source": [
    "Отправка векторов на обучение."
   ]
  },
  {
   "cell_type": "code",
   "execution_count": 76,
   "id": "661554f9",
   "metadata": {},
   "outputs": [
    {
     "name": "stdout",
     "output_type": "stream",
     "text": [
      "Epoch: 0\tpredict: [1. 1. 1. 1.]\tcorrect: [1, 0, 0, 0]\n",
      "Epoch: 10\tpredict: [1. 0. 0. 0.]\tcorrect: [1, 0, 0, 0]\n",
      "Epoch: 20\tpredict: [1. 0. 0. 0.]\tcorrect: [1, 0, 0, 0]\n",
      "**********************\n",
      "Epoch: 0\tpredict: [1. 1. 0. 0.]\tcorrect: [0, 1, 0, 0]\n",
      "Epoch: 10\tpredict: [0. 1. 0. 0.]\tcorrect: [0, 1, 0, 0]\n",
      "Epoch: 20\tpredict: [0. 1. 0. 0.]\tcorrect: [0, 1, 0, 0]\n",
      "**********************\n",
      "Epoch: 0\tpredict: [1. 1. 1. 1.]\tcorrect: [0, 0, 1, 0]\n",
      "Epoch: 10\tpredict: [0. 0. 1. 0.]\tcorrect: [0, 0, 1, 0]\n",
      "Epoch: 20\tpredict: [0. 0. 1. 0.]\tcorrect: [0, 0, 1, 0]\n",
      "**********************\n",
      "Epoch: 0\tpredict: [0. 0. 1. 0.]\tcorrect: [0, 0, 0, 1]\n",
      "Epoch: 10\tpredict: [0. 0. 0. 1.]\tcorrect: [0, 0, 0, 1]\n",
      "Epoch: 20\tpredict: [0. 0. 0. 1.]\tcorrect: [0, 0, 0, 1]\n",
      "**********************\n",
      "Epoch: 0\tpredict: [0. 0. 0. 1.]\tcorrect: [1, 0, 0, 0]\n",
      "Epoch: 10\tpredict: [1. 0. 0. 0.]\tcorrect: [1, 0, 0, 0]\n",
      "Epoch: 20\tpredict: [1. 0. 0. 0.]\tcorrect: [1, 0, 0, 0]\n",
      "**********************\n",
      "Epoch: 0\tpredict: [0. 0. 0. 0.]\tcorrect: [0, 1, 0, 0]\n",
      "Epoch: 10\tpredict: [0. 1. 0. 0.]\tcorrect: [0, 1, 0, 0]\n",
      "Epoch: 20\tpredict: [0. 1. 0. 0.]\tcorrect: [0, 1, 0, 0]\n",
      "**********************\n",
      "Epoch: 0\tpredict: [1. 1. 0. 0.]\tcorrect: [0, 0, 1, 0]\n",
      "Epoch: 10\tpredict: [0. 0. 1. 0.]\tcorrect: [0, 0, 1, 0]\n",
      "Epoch: 20\tpredict: [0. 0. 1. 0.]\tcorrect: [0, 0, 1, 0]\n",
      "**********************\n",
      "Epoch: 0\tpredict: [0. 0. 1. 0.]\tcorrect: [0, 0, 0, 1]\n",
      "Epoch: 10\tpredict: [0. 0. 0. 1.]\tcorrect: [0, 0, 0, 1]\n",
      "Epoch: 20\tpredict: [0. 0. 0. 1.]\tcorrect: [0, 0, 0, 1]\n",
      "**********************\n",
      "Epoch: 0\tpredict: [0. 0. 0. 0.]\tcorrect: [1, 0, 0, 0]\n",
      "Epoch: 10\tpredict: [1. 0. 0. 0.]\tcorrect: [1, 0, 0, 0]\n",
      "Epoch: 20\tpredict: [1. 0. 0. 0.]\tcorrect: [1, 0, 0, 0]\n",
      "**********************\n",
      "Epoch: 0\tpredict: [0. 0. 0. 1.]\tcorrect: [0, 1, 0, 0]\n",
      "Epoch: 10\tpredict: [0. 1. 0. 0.]\tcorrect: [0, 1, 0, 0]\n",
      "Epoch: 20\tpredict: [0. 1. 0. 0.]\tcorrect: [0, 1, 0, 0]\n",
      "**********************\n",
      "Epoch: 0\tpredict: [0. 0. 0. 0.]\tcorrect: [0, 0, 1, 0]\n",
      "Epoch: 10\tpredict: [0. 0. 1. 0.]\tcorrect: [0, 0, 1, 0]\n",
      "Epoch: 20\tpredict: [0. 0. 1. 0.]\tcorrect: [0, 0, 1, 0]\n",
      "**********************\n",
      "Epoch: 0\tpredict: [1. 0. 0. 0.]\tcorrect: [0, 0, 0, 1]\n",
      "Epoch: 10\tpredict: [0. 0. 0. 1.]\tcorrect: [0, 0, 0, 1]\n",
      "Epoch: 20\tpredict: [0. 0. 0. 1.]\tcorrect: [0, 0, 0, 1]\n",
      "**********************\n",
      "Epoch: 0\tpredict: [0. 0. 1. 1.]\tcorrect: [1, 0, 0, 0]\n",
      "Epoch: 10\tpredict: [1. 0. 0. 0.]\tcorrect: [1, 0, 0, 0]\n",
      "Epoch: 20\tpredict: [1. 0. 0. 0.]\tcorrect: [1, 0, 0, 0]\n",
      "**********************\n",
      "Epoch: 0\tpredict: [0. 1. 0. 1.]\tcorrect: [0, 1, 0, 0]\n",
      "Epoch: 10\tpredict: [0. 1. 0. 0.]\tcorrect: [0, 1, 0, 0]\n",
      "Epoch: 20\tpredict: [0. 1. 0. 0.]\tcorrect: [0, 1, 0, 0]\n",
      "**********************\n",
      "Epoch: 0\tpredict: [0. 0. 1. 0.]\tcorrect: [0, 0, 1, 0]\n",
      "Epoch: 10\tpredict: [0. 0. 1. 0.]\tcorrect: [0, 0, 1, 0]\n",
      "Epoch: 20\tpredict: [0. 0. 1. 0.]\tcorrect: [0, 0, 1, 0]\n",
      "**********************\n",
      "Epoch: 0\tpredict: [0. 0. 0. 0.]\tcorrect: [0, 0, 0, 1]\n",
      "Epoch: 10\tpredict: [0. 0. 0. 1.]\tcorrect: [0, 0, 0, 1]\n",
      "Epoch: 20\tpredict: [0. 0. 0. 1.]\tcorrect: [0, 0, 0, 1]\n",
      "**********************\n"
     ]
    },
    {
     "data": {
      "text/plain": [
       "array([0., 0., 0., 1.])"
      ]
     },
     "execution_count": 76,
     "metadata": {},
     "output_type": "execute_result"
    }
   ],
   "source": [
    "train(iar9, n9)\n",
    "train(iar3, n3)\n",
    "train(iar5, n5)\n",
    "train(iar2, n2)\n",
    "train(iar9_1, n9)\n",
    "train(iar3_1, n3)\n",
    "train(iar5_1, n5)\n",
    "train(iar2_1, n2)\n",
    "train(iar9_2, n9)\n",
    "train(iar3_2, n3)\n",
    "train(iar5_2, n5)\n",
    "train(iar2_2, n2)\n",
    "train(iar9_3, n9)\n",
    "train(iar3_3, n3)\n",
    "train(iar5_3, n5)\n",
    "train(iar2_3, n2)\n"
   ]
  },
  {
   "cell_type": "markdown",
   "id": "cabdf80b",
   "metadata": {},
   "source": [
    "Создаем данные для тестирования."
   ]
  },
  {
   "cell_type": "code",
   "execution_count": 77,
   "id": "f49143e2",
   "metadata": {},
   "outputs": [
    {
     "data": {
      "image/png": "[encoded data removed]",
      "text/plain": [
       "<Figure size 640x480 with 1 Axes>"
      ]
     },
     "metadata": {},
     "output_type": "display_data"
    }
   ],
   "source": [
    "test_img = Image.open('image/symb3_25x30/number_3_5.png')\n",
    "\n",
    "plt.imshow(test_img)\n",
    "test_img = np.array(test_img)\n",
    "test_img = threshold(test_img)\n"
   ]
  },
  {
   "cell_type": "code",
   "execution_count": 78,
   "id": "fd6ac5e6",
   "metadata": {},
   "outputs": [
    {
     "data": {
      "image/png": "[encoded data removed]",
      "text/plain": [
       "<Figure size 640x480 with 1 Axes>"
      ]
     },
     "metadata": {},
     "output_type": "display_data"
    }
   ],
   "source": [
    "test_img1 = Image.open('image/symb1_25x30/number_9_5.png')\n",
    "\n",
    "plt.imshow(test_img1)\n",
    "test_img1 = np.array(test_img1)\n",
    "test_img1 = threshold(test_img1)"
   ]
  },
  {
   "cell_type": "code",
   "execution_count": 79,
   "id": "1a0ebb67",
   "metadata": {},
   "outputs": [
    {
     "data": {
      "image/png": "[encoded data removed]",
      "text/plain": [
       "<Figure size 640x480 with 1 Axes>"
      ]
     },
     "metadata": {},
     "output_type": "display_data"
    }
   ],
   "source": [
    "test_img2 = Image.open('image/symb2_25x30/number_5_4.png')\n",
    "\n",
    "plt.imshow(test_img2)\n",
    "test_img2 = np.array(test_img2)\n",
    "test_img2 = threshold(test_img2)"
   ]
  },
  {
   "cell_type": "code",
   "execution_count": 80,
   "id": "aee7f858",
   "metadata": {},
   "outputs": [
    {
     "data": {
      "image/png": "[encoded data removed]",
      "text/plain": [
       "<Figure size 640x480 with 1 Axes>"
      ]
     },
     "metadata": {},
     "output_type": "display_data"
    }
   ],
   "source": [
    "test_img3 = Image.open('image/symb4_25x30/number_2_4.png')\n",
    "\n",
    "plt.imshow(test_img3)\n",
    "test_img3 = np.array(test_img3)\n",
    "test_img3 = threshold(test_img3)"
   ]
  },
  {
   "cell_type": "code",
   "execution_count": 81,
   "id": "bef2b782",
   "metadata": {},
   "outputs": [
    {
     "name": "stdout",
     "output_type": "stream",
     "text": [
      "750\n"
     ]
    }
   ],
   "source": [
    "print(test_img.size)"
   ]
  },
  {
   "cell_type": "markdown",
   "id": "7168d9a8",
   "metadata": {},
   "source": [
    "Функция для красивого вывода."
   ]
  },
  {
   "cell_type": "code",
   "execution_count": 82,
   "id": "73ffe9dc",
   "metadata": {},
   "outputs": [],
   "source": [
    "def res(x):\n",
    "    if (x[0] == 1):\n",
    "        print('Number 9')\n",
    "    if (x[1]):\n",
    "        print('Number 3')\n",
    "    if (x[2]):\n",
    "        print('Number 5')\n",
    "    if (x[3]):\n",
    "        print('Number 2')"
   ]
  },
  {
   "cell_type": "markdown",
   "id": "0fccd4f2",
   "metadata": {},
   "source": [
    "Вывод получившихся весов."
   ]
  },
  {
   "cell_type": "code",
   "execution_count": 83,
   "id": "911215e7",
   "metadata": {},
   "outputs": [
    {
     "name": "stdout",
     "output_type": "stream",
     "text": [
      "[[0.1933254  0.47390868 0.60934879 ... 0.45129956 0.5698072  0.62582611]\n",
      " [0.82901496 0.59152096 0.92540714 ... 0.561713   0.71156564 0.07821672]\n",
      " [0.83806631 0.59837684 0.06739679 ... 0.86147489 0.01988212 0.29319213]\n",
      " [0.94569727 0.10142958 0.89971132 ... 0.59739146 0.35199143 0.36906828]]\n"
     ]
    }
   ],
   "source": [
    "print(w)"
   ]
  },
  {
   "cell_type": "markdown",
   "id": "1a97b289",
   "metadata": {},
   "source": [
    "Функция классификации для тестовых данных"
   ]
  },
  {
   "cell_type": "code",
   "execution_count": 84,
   "id": "215416da",
   "metadata": {},
   "outputs": [],
   "source": [
    "def result(img):    \n",
    "    test_weight_sum = np.zeros(4)\n",
    "    test_calc_out = np.zeros(4)\n",
    "\n",
    "    for i in range(4):\n",
    "\n",
    "        test_weight_sum[i] =  np.sum(np.multiply(img[:], w[i][:]))\n",
    "        test_calc_out[i] = act_func(test_weight_sum[i])\n",
    "            \n",
    "    print(test_calc_out)\n",
    "    res(test_calc_out)\n",
    "   "
   ]
  },
  {
   "cell_type": "markdown",
   "id": "f93607f1",
   "metadata": {},
   "source": [
    "Тестирование."
   ]
  },
  {
   "cell_type": "code",
   "execution_count": 85,
   "id": "b4376363",
   "metadata": {},
   "outputs": [
    {
     "name": "stdout",
     "output_type": "stream",
     "text": [
      "[0. 1. 0. 0.]\n",
      "Number 3\n",
      "[1. 0. 0. 0.]\n",
      "Number 9\n",
      "[0. 0. 1. 0.]\n",
      "Number 5\n",
      "[0. 0. 0. 1.]\n",
      "Number 2\n"
     ]
    }
   ],
   "source": [
    "result(test_img)\n",
    "result(test_img1)\n",
    "result(test_img2)\n",
    "result(test_img3)"
   ]
  }
 ],
 "metadata": {
  "kernelspec": {
   "display_name": "Python 3 (ipykernel)",
   "language": "python",
   "name": "python3"
  },
  "language_info": {
   "codemirror_mode": {
    "name": "ipython",
    "version": 3
   },
   "file_extension": ".py",
   "mimetype": "text/x-python",
   "name": "python",
   "nbconvert_exporter": "python",
   "pygments_lexer": "ipython3",
   "version": "3.9.13"
  }
 },
 "nbformat": 4,
 "nbformat_minor": 5
}
