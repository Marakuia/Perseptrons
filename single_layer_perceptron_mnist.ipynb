{
 "cells": [
  {
   "cell_type": "markdown",
   "id": "f8a577e8",
   "metadata": {},
   "source": [
    "## Задание. \n",
    "Построить и обучить нейронную сеть для распознавания цифровых рукописных символов из базы данных MNIST (Mixed National Institute of Standards and Technology database). Нейронная сеть должна корректно распознавать образы из тестовой выборки в большинстве случаев"
   ]
  },
  {
   "cell_type": "markdown",
   "id": "59f18bca",
   "metadata": {},
   "source": [
    "Импортируем необходимые библиотеки и MNIST."
   ]
  },
  {
   "cell_type": "code",
   "execution_count": 2,
   "id": "316bdb36",
   "metadata": {},
   "outputs": [],
   "source": [
    "import numpy as np\n",
    "from PIL import Image\n",
    "\n",
    "import matplotlib.pyplot as plt\n",
    "import time\n",
    "\n",
    "from statistics import mean\n",
    "\n",
    "from tensorflow.keras.datasets import mnist"
   ]
  },
  {
   "cell_type": "markdown",
   "id": "64329f29",
   "metadata": {},
   "source": [
    "Делим данные на тренировочные и тестовые."
   ]
  },
  {
   "cell_type": "code",
   "execution_count": 3,
   "id": "d3b65f59",
   "metadata": {},
   "outputs": [],
   "source": [
    "(x_train, y_train), (x_test, y_test) = mnist.load_data()"
   ]
  },
  {
   "cell_type": "code",
   "execution_count": 4,
   "id": "a07c3a3f",
   "metadata": {},
   "outputs": [],
   "source": [
    "x_train = (x_train[0:2000].reshape(2000,28*28)) / 255\n",
    "y_train = y_train[0:2000]"
   ]
  },
  {
   "cell_type": "code",
   "execution_count": 5,
   "id": "0a03a77f",
   "metadata": {},
   "outputs": [],
   "source": [
    "x_test = x_test[0:200].reshape(200,28*28) / 255"
   ]
  },
  {
   "cell_type": "code",
   "execution_count": 6,
   "id": "487bc2d1",
   "metadata": {},
   "outputs": [
    {
     "data": {
      "text/plain": [
       "5"
      ]
     },
     "execution_count": 6,
     "metadata": {},
     "output_type": "execute_result"
    }
   ],
   "source": [
    "y_train[0]"
   ]
  },
  {
   "cell_type": "markdown",
   "id": "063b4e7d",
   "metadata": {},
   "source": [
    "Функция для задания класса каждой цифре."
   ]
  },
  {
   "cell_type": "code",
   "execution_count": 7,
   "id": "425634fe",
   "metadata": {},
   "outputs": [],
   "source": [
    "def norm_train_y(y_data):\n",
    "    train_y_all = []\n",
    "    \n",
    "    for i in y_data:\n",
    "        y_arr = np.zeros(10)\n",
    "        y_arr[i] = 1\n",
    "        train_y_all.append(y_arr)\n",
    "    return np.asarray(train_y_all)\n",
    "        "
   ]
  },
  {
   "cell_type": "code",
   "execution_count": 8,
   "id": "da0d624a",
   "metadata": {},
   "outputs": [],
   "source": [
    "train_y = norm_train_y(y_train)"
   ]
  },
  {
   "cell_type": "markdown",
   "id": "c8916b34",
   "metadata": {},
   "source": [
    "В качестве функции активации будем использовать  сигмоиду."
   ]
  },
  {
   "cell_type": "code",
   "execution_count": 9,
   "id": "3fe1afe9",
   "metadata": {},
   "outputs": [],
   "source": [
    "#activation function\n",
    "def act_func(x):\n",
    "    return 1/(1+np.exp(-x))"
   ]
  },
  {
   "cell_type": "markdown",
   "id": "9de3efb7",
   "metadata": {},
   "source": [
    "Производная функции активации."
   ]
  },
  {
   "cell_type": "code",
   "execution_count": 10,
   "id": "bb0ee2ad",
   "metadata": {},
   "outputs": [],
   "source": [
    "#activation function derivative\n",
    "def act_func_deriv(x):\n",
    "    fx = act_func(x)\n",
    "    if (fx*(1 - fx))==0:\n",
    "        return 0\n",
    "    return fx*(1 - fx)"
   ]
  },
  {
   "cell_type": "markdown",
   "id": "2b68a390",
   "metadata": {},
   "source": [
    "Генерируем веса."
   ]
  },
  {
   "cell_type": "code",
   "execution_count": 93,
   "id": "7bf89e2b",
   "metadata": {},
   "outputs": [
    {
     "name": "stdout",
     "output_type": "stream",
     "text": [
      "[[0.90629933 0.23130808 0.57885754 ... 0.35104251 0.99106001 0.14008217]\n",
      " [0.00882149 0.47423738 0.5023463  ... 0.39182991 0.24481897 0.23562829]\n",
      " [0.51814679 0.45010295 0.43161761 ... 0.95652397 0.05405175 0.25225954]\n",
      " ...\n",
      " [0.67756066 0.58223364 0.8682706  ... 0.04173832 0.57211843 0.0489018 ]\n",
      " [0.25986373 0.07361003 0.53246071 ... 0.052451   0.31387527 0.75556149]\n",
      " [0.00893122 0.77915703 0.18962986 ... 0.33622853 0.24014851 0.89121028]]\n"
     ]
    }
   ],
   "source": [
    "w = np.zeros((10,784))\n",
    "for i in range(10):\n",
    "    for j in range(784):\n",
    "        w[i][j] = np.random.rand()\n",
    "\n",
    "print(w)\n"
   ]
  },
  {
   "cell_type": "markdown",
   "id": "af78cb30",
   "metadata": {},
   "source": [
    "Функция для более понятного вывода. Классу, у которого наибольшая вероятность, ставит единицу, остальным - 0."
   ]
  },
  {
   "cell_type": "code",
   "execution_count": 95,
   "id": "49815334",
   "metadata": {},
   "outputs": [],
   "source": [
    "def beautiful_out(x):\n",
    "    max_value = max(x)\n",
    "    max_indx = np.where(x==max_value)[0]\n",
    "    return max_indx"
   ]
  },
  {
   "cell_type": "markdown",
   "id": "c2149495",
   "metadata": {},
   "source": [
    "Функция для подсчета среднеквадратичной ошибки."
   ]
  },
  {
   "cell_type": "code",
   "execution_count": 96,
   "id": "9bcea955",
   "metadata": {},
   "outputs": [],
   "source": [
    "def error_calc(calc_out, correct_result):               \n",
    "    return (correct_result - calc_out)**2"
   ]
  },
  {
   "cell_type": "markdown",
   "id": "8ffcdfcd",
   "metadata": {},
   "source": [
    "Функция для подсчета точности."
   ]
  },
  {
   "cell_type": "code",
   "execution_count": 97,
   "id": "1b60af34",
   "metadata": {},
   "outputs": [],
   "source": [
    "def accuracy(true_prediction, correct):\n",
    "    return true_prediction/correct"
   ]
  },
  {
   "cell_type": "markdown",
   "id": "5fad19ce",
   "metadata": {},
   "source": [
    "Функция обучния нейронной сети."
   ]
  },
  {
   "cell_type": "code",
   "execution_count": 98,
   "id": "570dc775",
   "metadata": {},
   "outputs": [],
   "source": [
    "def train(train_image, correct_result):\n",
    "    global w\n",
    "    \n",
    "    alpha = 0.001\n",
    "    prediction = np.zeros(10)\n",
    "    \n",
    "    e_all = 0\n",
    "    \n",
    "    for epoch in range(10):\n",
    "        error_all = 0\n",
    "        k = 0\n",
    "        for i in range(len(train_image)):\n",
    "            error = 0\n",
    "            \n",
    "            for j in range(10):\n",
    "                \n",
    "                \n",
    "                \n",
    "                prediction[j] = act_func(np.dot(train_image[i][:],w[j][:]))\n",
    "\n",
    "                w_delta =  -2*(prediction[j]-correct_result[i][j])-alpha*(act_func_deriv(prediction[j]-correct_result[i][j])) \n",
    "\n",
    "\n",
    "                for n in range(784):\n",
    "                    w[j][n] = w[j][n] + w_delta*train_image[i][n]\n",
    "\n",
    "\n",
    "                error += np.sum(error_calc(prediction[j], correct_result[i][j]))\n",
    "            error_all += error\n",
    "           \n",
    "            if np.array_equal(beautiful_out(prediction),beautiful_out(correct_result[i])):\n",
    "                k+=1\n",
    "\n",
    "        accur = accuracy(k, len(correct_result))\n",
    "            \n",
    "        print(\"Epoch \" + str(epoch)  + \":\\tError:\" + str(error_all/len(train_image)) + \" \\tAccuracy:\" + str(accur)) \n",
    "\n",
    "          \n",
    "    return w"
   ]
  },
  {
   "cell_type": "code",
   "execution_count": 99,
   "id": "60f80c97",
   "metadata": {
    "scrolled": true
   },
   "outputs": [
    {
     "name": "stderr",
     "output_type": "stream",
     "text": [
      "C:\\Users\\Lenovo\\AppData\\Local\\Temp\\ipykernel_19220\\3198915338.py:3: RuntimeWarning: overflow encountered in exp\n",
      "  return 1/(1+np.exp(-x))\n"
     ]
    },
    {
     "name": "stdout",
     "output_type": "stream",
     "text": [
      "Epoch 0:\tError:0.8571960962032596 \tAccuracy:0.556\n",
      "Epoch 1:\tError:0.5578793656510698 \tAccuracy:0.7065\n",
      "Epoch 2:\tError:0.45789445704121146 \tAccuracy:0.7815\n",
      "Epoch 3:\tError:0.3690012766023088 \tAccuracy:0.8105\n",
      "Epoch 4:\tError:0.34600808315719156 \tAccuracy:0.8325\n",
      "Epoch 5:\tError:0.2868144617580744 \tAccuracy:0.857\n",
      "Epoch 6:\tError:0.2711112707174385 \tAccuracy:0.876\n",
      "Epoch 7:\tError:0.2687843113512065 \tAccuracy:0.876\n",
      "Epoch 8:\tError:0.23573434869803506 \tAccuracy:0.903\n",
      "Epoch 9:\tError:0.22326249266051876 \tAccuracy:0.896\n"
     ]
    },
    {
     "data": {
      "text/plain": [
       "array([[0.90629933, 0.23130808, 0.57885754, ..., 0.35104251, 0.99106001,\n",
       "        0.14008217],\n",
       "       [0.00882149, 0.47423738, 0.5023463 , ..., 0.39182991, 0.24481897,\n",
       "        0.23562829],\n",
       "       [0.51814679, 0.45010295, 0.43161761, ..., 0.95652397, 0.05405175,\n",
       "        0.25225954],\n",
       "       ...,\n",
       "       [0.67756066, 0.58223364, 0.8682706 , ..., 0.04173832, 0.57211843,\n",
       "        0.0489018 ],\n",
       "       [0.25986373, 0.07361003, 0.53246071, ..., 0.052451  , 0.31387527,\n",
       "        0.75556149],\n",
       "       [0.00893122, 0.77915703, 0.18962986, ..., 0.33622853, 0.24014851,\n",
       "        0.89121028]])"
      ]
     },
     "execution_count": 99,
     "metadata": {},
     "output_type": "execute_result"
    }
   ],
   "source": [
    "train(x_train, train_y)"
   ]
  },
  {
   "cell_type": "markdown",
   "id": "8f02e151",
   "metadata": {},
   "source": [
    "Вывод весов."
   ]
  },
  {
   "cell_type": "code",
   "execution_count": 100,
   "id": "911215e7",
   "metadata": {},
   "outputs": [
    {
     "name": "stdout",
     "output_type": "stream",
     "text": [
      "[[0.90629933 0.23130808 0.57885754 ... 0.35104251 0.99106001 0.14008217]\n",
      " [0.00882149 0.47423738 0.5023463  ... 0.39182991 0.24481897 0.23562829]\n",
      " [0.51814679 0.45010295 0.43161761 ... 0.95652397 0.05405175 0.25225954]\n",
      " ...\n",
      " [0.67756066 0.58223364 0.8682706  ... 0.04173832 0.57211843 0.0489018 ]\n",
      " [0.25986373 0.07361003 0.53246071 ... 0.052451   0.31387527 0.75556149]\n",
      " [0.00893122 0.77915703 0.18962986 ... 0.33622853 0.24014851 0.89121028]]\n"
     ]
    }
   ],
   "source": [
    "print(w)"
   ]
  },
  {
   "cell_type": "markdown",
   "id": "31980b34",
   "metadata": {},
   "source": [
    "Для тестовой выборки возьмем 10% от тренировочной выборки."
   ]
  },
  {
   "cell_type": "code",
   "execution_count": 101,
   "id": "3d70d35a",
   "metadata": {},
   "outputs": [],
   "source": [
    "test_y = y_test[0:200]\n",
    "test_y = norm_train_y(test_y)"
   ]
  },
  {
   "cell_type": "code",
   "execution_count": 102,
   "id": "b518f3c0",
   "metadata": {},
   "outputs": [
    {
     "data": {
      "text/plain": [
       "array([[0., 0., 0., ..., 1., 0., 0.],\n",
       "       [0., 0., 1., ..., 0., 0., 0.],\n",
       "       [0., 1., 0., ..., 0., 0., 0.],\n",
       "       ...,\n",
       "       [0., 0., 0., ..., 0., 0., 0.],\n",
       "       [0., 0., 0., ..., 0., 0., 0.],\n",
       "       [0., 0., 1., ..., 0., 0., 0.]])"
      ]
     },
     "execution_count": 102,
     "metadata": {},
     "output_type": "execute_result"
    }
   ],
   "source": [
    "test_y"
   ]
  },
  {
   "cell_type": "markdown",
   "id": "792d5bf3",
   "metadata": {},
   "source": [
    "Функция классификации для тестовых данных."
   ]
  },
  {
   "cell_type": "code",
   "execution_count": 103,
   "id": "215416da",
   "metadata": {},
   "outputs": [],
   "source": [
    "def result(img, correct):    \n",
    "    prediction = np.zeros(10)\n",
    "    \n",
    "    error_all = 0\n",
    "    k = 0\n",
    "    for i in range(len(img)):\n",
    "        error = 0\n",
    "       \n",
    "        for j in range(10):\n",
    "                \n",
    "            prediction[j] = act_func(np.dot(img[i][:],w[j][:]))\n",
    "            error += np.sum(error_calc(prediction[j], correct[i][j]))\n",
    "        error_all += error\n",
    "        \n",
    "        if np.array_equal(beautiful_out(prediction),beautiful_out(correct[i])):\n",
    "            k+=1\n",
    "\n",
    "    accur = accuracy(k, len(correct))\n",
    "    print(\"Error: \" + str(error_all/len(img))+\"\\tAccuracy: \"+str(accur))\n",
    "\n",
    "   "
   ]
  },
  {
   "cell_type": "code",
   "execution_count": 104,
   "id": "e4da33e8",
   "metadata": {},
   "outputs": [
    {
     "data": {
      "text/plain": [
       "7"
      ]
     },
     "execution_count": 104,
     "metadata": {},
     "output_type": "execute_result"
    }
   ],
   "source": [
    "y_test[36]"
   ]
  },
  {
   "cell_type": "markdown",
   "id": "bb287fa2",
   "metadata": {},
   "source": [
    "Вывод ошибки и точности при тестировании."
   ]
  },
  {
   "cell_type": "code",
   "execution_count": 108,
   "id": "b4376363",
   "metadata": {},
   "outputs": [
    {
     "name": "stdout",
     "output_type": "stream",
     "text": [
      "Error: 0.36386120015995205\tAccuracy: 0.825\n"
     ]
    },
    {
     "name": "stderr",
     "output_type": "stream",
     "text": [
      "C:\\Users\\Lenovo\\AppData\\Local\\Temp\\ipykernel_19220\\3198915338.py:3: RuntimeWarning: overflow encountered in exp\n",
      "  return 1/(1+np.exp(-x))\n"
     ]
    }
   ],
   "source": [
    "result(x_test, test_y)"
   ]
  }
 ],
 "metadata": {
  "kernelspec": {
   "display_name": "Python 3 (ipykernel)",
   "language": "python",
   "name": "python3"
  },
  "language_info": {
   "codemirror_mode": {
    "name": "ipython",
    "version": 3
   },
   "file_extension": ".py",
   "mimetype": "text/x-python",
   "name": "python",
   "nbconvert_exporter": "python",
   "pygments_lexer": "ipython3",
   "version": "3.9.13"
  }
 },
 "nbformat": 4,
 "nbformat_minor": 5
}
